{
 "cells": [
  {
   "cell_type": "markdown",
   "metadata": {},
   "source": [
    "# Author: Elvis Ilunga  \n",
    "\n",
    "\n",
    "\n",
    "\n",
    "\n",
    "### Contents  \n",
    "\n",
    "**Introduction**  \n",
    "**Part I**\n",
    "1. **Libraries of Interest**  \n",
    "2. **Preliminaries - Read and Varify the Data**  \n",
    "3. **Data**  \n",
    "4. **Exploratory Data Analysis**  \n",
    "   4.1. **Visualise Target Variable**  \n",
    "5. **Logistic Regression Model Fitting**   \n",
    "   5.1. **Training Model**   \n",
    "   5.2. **Model Predictions**   \n",
    "   5.3. **Confusion Matrix**  \n",
    "   5.4. **Interpretation**  \n",
    "6. **ROC Curve**  \n",
    "   6.1. **AUC**  \n",
    "**Part II**\n",
    "1. **Likelihood Calculation**  \n",
    "\n",
    "\n",
    "\n",
    "\n",
    "## Introduction    \n",
    "\n",
    "The case consists in predicting the likelihood of a client not taking up a policy. We are going to fit a predictive model that predicts this likelihood and show how good is this model or its predictive power.   \n",
    "\n",
    "In the second stance we are required to understanding and calculate the likelihood of a client who made his first monthly payment and could carry on paying six months without lapsing or canceling the contract.     \n",
    "\n",
    "The data to solve the case study consists of the details of insurance clients who typically sign a contract to pay monthly insurance premiums.   \n",
    "If they make the first months’ premium payment the contract is regarded as taken up and active   \n",
    "\n",
    "Among all the variables, three of them are highlighted as follows:   \n",
    "\n",
    "* Take up outcome: this indicates if the client made first payment and therefore the policy is classified as taken up if the first payment was made.  \n",
    "\n",
    "* Contract status: indicates if the policy is still active (1 = Active and the client is still paying the monthly premium, 0 = Cancelled or lapsed and the client is not paying premiums anymore)   \n",
    "\n",
    "* Collection Count: counts the number of monthly premiums received on the specific policy at the data extraction date.   \n",
    "\n",
    "\n",
    "Note:   \n",
    "\n",
    "     - if the contract was never taken up, it means the first premium was never paid and the number of collections would\n",
    "       reflect as zero.   \n",
    "     – the collection count would stop at the date when the last payment was received, so for policies that are not active\n",
    "       any more, this would reflect the total number of payments received before they cancelled/lapsed.   \n"
   ]
  },
  {
   "cell_type": "markdown",
   "metadata": {},
   "source": [
    "## Part I"
   ]
  },
  {
   "cell_type": "markdown",
   "metadata": {},
   "source": [
    "### 1. Libraries of Interest"
   ]
  },
  {
   "cell_type": "code",
   "execution_count": 1,
   "metadata": {},
   "outputs": [],
   "source": [
    "import pandas as pd\n",
    "import numpy as np\n",
    "from sklearn import preprocessing\n",
    "import matplotlib.pyplot as plt\n",
    "from sklearn.linear_model import LogisticRegression\n",
    "from sklearn.model_selection import train_test_split\n",
    "import seaborn as sns\n",
    "sns.set(style=\"whitegrid\", color_codes=True)"
   ]
  },
  {
   "cell_type": "markdown",
   "metadata": {},
   "source": [
    "###  2. Preliminaries- Read and Verify the Data"
   ]
  },
  {
   "cell_type": "code",
   "execution_count": 2,
   "metadata": {},
   "outputs": [],
   "source": [
    "#Read in the data\n",
    "original_data = pd.read_csv('Sample_data.csv')"
   ]
  },
  {
   "cell_type": "code",
   "execution_count": 3,
   "metadata": {},
   "outputs": [],
   "source": [
    "#Make a copy of the original data in case of accidental modification\n",
    "clients_data = original_data"
   ]
  },
  {
   "cell_type": "code",
   "execution_count": 4,
   "metadata": {},
   "outputs": [
    {
     "name": "stdout",
     "output_type": "stream",
     "text": [
      "(25499, 23)\n",
      "Index(['Policy Number', 'Policy Status', 'Age', 'Gender', 'Home Language',\n",
      "       'Family Status', 'Gross Household Income', 'Gross Income',\n",
      "       'Monthly Premium Original', 'Monthly Premium',\n",
      "       'Dfference between Household and Personal Income', 'Salary Day',\n",
      "       'Debit order day', 'Education', 'Occupation', 'Province', 'Postal Code',\n",
      "       'Policy Affordability %', 'Policy Affordability % Band',\n",
      "       'Response Outcome', 'Take Up Outcome', 'Contract Status',\n",
      "       'Collection Count'],\n",
      "      dtype='object')\n"
     ]
    }
   ],
   "source": [
    "#Let's take a look at the dimensions (number of rows and columns) of the dataset and the name of the variables\n",
    "print(clients_data.shape)\n",
    "print(clients_data.columns)"
   ]
  },
  {
   "cell_type": "code",
   "execution_count": 5,
   "metadata": {},
   "outputs": [
    {
     "data": {
      "text/html": [
       "<div>\n",
       "<style scoped>\n",
       "    .dataframe tbody tr th:only-of-type {\n",
       "        vertical-align: middle;\n",
       "    }\n",
       "\n",
       "    .dataframe tbody tr th {\n",
       "        vertical-align: top;\n",
       "    }\n",
       "\n",
       "    .dataframe thead th {\n",
       "        text-align: right;\n",
       "    }\n",
       "</style>\n",
       "<table border=\"1\" class=\"dataframe\">\n",
       "  <thead>\n",
       "    <tr style=\"text-align: right;\">\n",
       "      <th></th>\n",
       "      <th>Policy Number</th>\n",
       "      <th>Policy Status</th>\n",
       "      <th>Age</th>\n",
       "      <th>Gender</th>\n",
       "      <th>Home Language</th>\n",
       "      <th>Family Status</th>\n",
       "      <th>Gross Household Income</th>\n",
       "      <th>Gross Income</th>\n",
       "      <th>Monthly Premium Original</th>\n",
       "      <th>Monthly Premium</th>\n",
       "      <th>...</th>\n",
       "      <th>Education</th>\n",
       "      <th>Occupation</th>\n",
       "      <th>Province</th>\n",
       "      <th>Postal Code</th>\n",
       "      <th>Policy Affordability %</th>\n",
       "      <th>Policy Affordability % Band</th>\n",
       "      <th>Response Outcome</th>\n",
       "      <th>Take Up Outcome</th>\n",
       "      <th>Contract Status</th>\n",
       "      <th>Collection Count</th>\n",
       "    </tr>\n",
       "  </thead>\n",
       "  <tbody>\n",
       "    <tr>\n",
       "      <th>0</th>\n",
       "      <td>1</td>\n",
       "      <td>Cancelled</td>\n",
       "      <td>39</td>\n",
       "      <td>Male</td>\n",
       "      <td>Tsonga</td>\n",
       "      <td>Single</td>\n",
       "      <td>6800</td>\n",
       "      <td>6800</td>\n",
       "      <td>0</td>\n",
       "      <td>0</td>\n",
       "      <td>...</td>\n",
       "      <td>No Matric</td>\n",
       "      <td>Driver</td>\n",
       "      <td>Mpumalanga</td>\n",
       "      <td>2211</td>\n",
       "      <td>0.019</td>\n",
       "      <td>1.5 - 2.5%</td>\n",
       "      <td>1</td>\n",
       "      <td>1</td>\n",
       "      <td>0</td>\n",
       "      <td>6</td>\n",
       "    </tr>\n",
       "    <tr>\n",
       "      <th>1</th>\n",
       "      <td>2</td>\n",
       "      <td>Cancelled</td>\n",
       "      <td>41</td>\n",
       "      <td>Female</td>\n",
       "      <td>English</td>\n",
       "      <td>Married</td>\n",
       "      <td>15800</td>\n",
       "      <td>8600</td>\n",
       "      <td>0</td>\n",
       "      <td>0</td>\n",
       "      <td>...</td>\n",
       "      <td>Matric</td>\n",
       "      <td>Admin Clerk</td>\n",
       "      <td>Western Cape</td>\n",
       "      <td>7764</td>\n",
       "      <td>0.007</td>\n",
       "      <td>0 - 1.5%</td>\n",
       "      <td>1</td>\n",
       "      <td>1</td>\n",
       "      <td>0</td>\n",
       "      <td>7</td>\n",
       "    </tr>\n",
       "    <tr>\n",
       "      <th>2</th>\n",
       "      <td>3</td>\n",
       "      <td>Cancelled</td>\n",
       "      <td>41</td>\n",
       "      <td>Male</td>\n",
       "      <td>Sotho</td>\n",
       "      <td>Married</td>\n",
       "      <td>17500</td>\n",
       "      <td>15000</td>\n",
       "      <td>0</td>\n",
       "      <td>0</td>\n",
       "      <td>...</td>\n",
       "      <td>Matric</td>\n",
       "      <td>Retail Manager</td>\n",
       "      <td>Gauteng</td>\n",
       "      <td>200</td>\n",
       "      <td>0.029</td>\n",
       "      <td>2.5 - 5%</td>\n",
       "      <td>1</td>\n",
       "      <td>1</td>\n",
       "      <td>0</td>\n",
       "      <td>2</td>\n",
       "    </tr>\n",
       "    <tr>\n",
       "      <th>3</th>\n",
       "      <td>4</td>\n",
       "      <td>Installed</td>\n",
       "      <td>53</td>\n",
       "      <td>Male</td>\n",
       "      <td>Sotho</td>\n",
       "      <td>Married</td>\n",
       "      <td>9500</td>\n",
       "      <td>8000</td>\n",
       "      <td>209</td>\n",
       "      <td>123</td>\n",
       "      <td>...</td>\n",
       "      <td>No Matric</td>\n",
       "      <td>Boilermaker</td>\n",
       "      <td>Gauteng</td>\n",
       "      <td>1426</td>\n",
       "      <td>0.013</td>\n",
       "      <td>0 - 1.5%</td>\n",
       "      <td>1</td>\n",
       "      <td>1</td>\n",
       "      <td>1</td>\n",
       "      <td>11</td>\n",
       "    </tr>\n",
       "    <tr>\n",
       "      <th>4</th>\n",
       "      <td>5</td>\n",
       "      <td>Cancelled</td>\n",
       "      <td>31</td>\n",
       "      <td>Male</td>\n",
       "      <td>Afrikaans</td>\n",
       "      <td>Single</td>\n",
       "      <td>44600</td>\n",
       "      <td>44600</td>\n",
       "      <td>0</td>\n",
       "      <td>0</td>\n",
       "      <td>...</td>\n",
       "      <td>Matric</td>\n",
       "      <td>Site Manager</td>\n",
       "      <td>Gauteng</td>\n",
       "      <td>1724</td>\n",
       "      <td>0.014</td>\n",
       "      <td>0 - 1.5%</td>\n",
       "      <td>1</td>\n",
       "      <td>1</td>\n",
       "      <td>0</td>\n",
       "      <td>1</td>\n",
       "    </tr>\n",
       "  </tbody>\n",
       "</table>\n",
       "<p>5 rows × 23 columns</p>\n",
       "</div>"
      ],
      "text/plain": [
       "   Policy Number Policy Status  Age  Gender Home Language Family Status  \\\n",
       "0              1     Cancelled   39    Male        Tsonga        Single   \n",
       "1              2     Cancelled   41  Female       English       Married   \n",
       "2              3     Cancelled   41    Male         Sotho       Married   \n",
       "3              4     Installed   53    Male         Sotho       Married   \n",
       "4              5     Cancelled   31    Male     Afrikaans        Single   \n",
       "\n",
       "   Gross Household Income  Gross Income  Monthly Premium Original  \\\n",
       "0                    6800          6800                         0   \n",
       "1                   15800          8600                         0   \n",
       "2                   17500         15000                         0   \n",
       "3                    9500          8000                       209   \n",
       "4                   44600         44600                         0   \n",
       "\n",
       "   Monthly Premium  ...  Education      Occupation      Province Postal Code  \\\n",
       "0                0  ...  No Matric          Driver    Mpumalanga        2211   \n",
       "1                0  ...     Matric     Admin Clerk  Western Cape        7764   \n",
       "2                0  ...     Matric  Retail Manager       Gauteng         200   \n",
       "3              123  ...  No Matric     Boilermaker       Gauteng        1426   \n",
       "4                0  ...     Matric    Site Manager       Gauteng        1724   \n",
       "\n",
       "  Policy Affordability % Policy Affordability % Band Response Outcome  \\\n",
       "0                  0.019                  1.5 - 2.5%                1   \n",
       "1                  0.007                    0 - 1.5%                1   \n",
       "2                  0.029                    2.5 - 5%                1   \n",
       "3                  0.013                    0 - 1.5%                1   \n",
       "4                  0.014                    0 - 1.5%                1   \n",
       "\n",
       "   Take Up Outcome Contract Status  Collection Count  \n",
       "0                1               0                 6  \n",
       "1                1               0                 7  \n",
       "2                1               0                 2  \n",
       "3                1               1                11  \n",
       "4                1               0                 1  \n",
       "\n",
       "[5 rows x 23 columns]"
      ]
     },
     "execution_count": 5,
     "metadata": {},
     "output_type": "execute_result"
    }
   ],
   "source": [
    "#A quick look at the first five observations\n",
    "clients_data.head()"
   ]
  },
  {
   "cell_type": "markdown",
   "metadata": {},
   "source": [
    "### 3. Data\n",
    "\n",
    "From the outputs above, we can see that the dataset contains the clients insurance information at different levels. It includes 25499 observations and 23 variables. Most of the variables or outcomes in the columns of the dataset relate to the personal details of the individual involved. There are three variables of interest that we should consider in our analysis, these are:\n",
    "* Take up outcome   \n",
    "* Contract Status   \n",
    "* Collection Count  "
   ]
  },
  {
   "cell_type": "code",
   "execution_count": 6,
   "metadata": {},
   "outputs": [],
   "source": [
    "#Let's subset the dataset and keep only those three variables\n",
    "dt = clients_data[['Take Up Outcome', 'Contract Status', 'Collection Count']]"
   ]
  },
  {
   "cell_type": "code",
   "execution_count": 7,
   "metadata": {},
   "outputs": [
    {
     "data": {
      "text/html": [
       "<div>\n",
       "<style scoped>\n",
       "    .dataframe tbody tr th:only-of-type {\n",
       "        vertical-align: middle;\n",
       "    }\n",
       "\n",
       "    .dataframe tbody tr th {\n",
       "        vertical-align: top;\n",
       "    }\n",
       "\n",
       "    .dataframe thead th {\n",
       "        text-align: right;\n",
       "    }\n",
       "</style>\n",
       "<table border=\"1\" class=\"dataframe\">\n",
       "  <thead>\n",
       "    <tr style=\"text-align: right;\">\n",
       "      <th></th>\n",
       "      <th>Take Up Outcome</th>\n",
       "      <th>Contract Status</th>\n",
       "      <th>Collection Count</th>\n",
       "    </tr>\n",
       "  </thead>\n",
       "  <tbody>\n",
       "    <tr>\n",
       "      <th>0</th>\n",
       "      <td>1</td>\n",
       "      <td>0</td>\n",
       "      <td>6</td>\n",
       "    </tr>\n",
       "    <tr>\n",
       "      <th>1</th>\n",
       "      <td>1</td>\n",
       "      <td>0</td>\n",
       "      <td>7</td>\n",
       "    </tr>\n",
       "    <tr>\n",
       "      <th>2</th>\n",
       "      <td>1</td>\n",
       "      <td>0</td>\n",
       "      <td>2</td>\n",
       "    </tr>\n",
       "    <tr>\n",
       "      <th>3</th>\n",
       "      <td>1</td>\n",
       "      <td>1</td>\n",
       "      <td>11</td>\n",
       "    </tr>\n",
       "    <tr>\n",
       "      <th>4</th>\n",
       "      <td>1</td>\n",
       "      <td>0</td>\n",
       "      <td>1</td>\n",
       "    </tr>\n",
       "  </tbody>\n",
       "</table>\n",
       "</div>"
      ],
      "text/plain": [
       "   Take Up Outcome  Contract Status  Collection Count\n",
       "0                1                0                 6\n",
       "1                1                0                 7\n",
       "2                1                0                 2\n",
       "3                1                1                11\n",
       "4                1                0                 1"
      ]
     },
     "execution_count": 7,
     "metadata": {},
     "output_type": "execute_result"
    }
   ],
   "source": [
    "dt.head()"
   ]
  },
  {
   "cell_type": "code",
   "execution_count": 9,
   "metadata": {},
   "outputs": [
    {
     "name": "stdout",
     "output_type": "stream",
     "text": [
      "<class 'pandas.core.frame.DataFrame'>\n",
      "RangeIndex: 25499 entries, 0 to 25498\n",
      "Data columns (total 3 columns):\n",
      " #   Column            Non-Null Count  Dtype\n",
      "---  ------            --------------  -----\n",
      " 0   Take Up Outcome   25499 non-null  int64\n",
      " 1   Contract Status   25499 non-null  int64\n",
      " 2   Collection Count  25499 non-null  int64\n",
      "dtypes: int64(3)\n",
      "memory usage: 597.8 KB\n"
     ]
    }
   ],
   "source": [
    "#Let's take a close look at the structure of these three variables of interest\n",
    "dt.info()"
   ]
  },
  {
   "cell_type": "markdown",
   "metadata": {},
   "source": [
    "### 4. Exploratory Data Analysis"
   ]
  },
  {
   "cell_type": "code",
   "execution_count": 11,
   "metadata": {},
   "outputs": [
    {
     "data": {
      "text/plain": [
       "Take Up Outcome     0\n",
       "Contract Status     0\n",
       "Collection Count    0\n",
       "dtype: int64"
      ]
     },
     "execution_count": 11,
     "metadata": {},
     "output_type": "execute_result"
    }
   ],
   "source": [
    "#Let's check for missing values\n",
    "(dt.isna()).sum()"
   ]
  },
  {
   "cell_type": "markdown",
   "metadata": {},
   "source": [
    "It clearly can be seen that there are no missing values as already noticed in the previous stage of dataset info"
   ]
  },
  {
   "cell_type": "markdown",
   "metadata": {},
   "source": [
    "As we are requested to predict the likelihood of not taking a policy up, therefore Take Up Outcome is our target variable. Let's take a look at its breakdown"
   ]
  },
  {
   "cell_type": "code",
   "execution_count": 12,
   "metadata": {},
   "outputs": [
    {
     "data": {
      "text/plain": [
       "1    16613\n",
       "0     8886\n",
       "Name: Take Up Outcome, dtype: int64"
      ]
     },
     "execution_count": 12,
     "metadata": {},
     "output_type": "execute_result"
    }
   ],
   "source": [
    "dt['Take Up Outcome'].value_counts()"
   ]
  },
  {
   "cell_type": "code",
   "execution_count": 14,
   "metadata": {},
   "outputs": [
    {
     "name": "stdout",
     "output_type": "stream",
     "text": [
      "percentage of ones is  65.15157457155183\n",
      "percentage of zeros is  34.848425428448174\n"
     ]
    }
   ],
   "source": [
    "#Let's get the percentage of ones and zeros in the Take Up Outcome \n",
    "count_no_ones = len(dt[dt['Take Up Outcome']==1])\n",
    "count_no_zeros = len(dt[dt['Take Up Outcome']==0])\n",
    "pct_of_ones = count_no_ones / (count_no_ones + count_no_zeros)\n",
    "pct_of_zeros = count_no_zeros / (count_no_ones + count_no_zeros)\n",
    "print('percentage of ones is ', pct_of_ones*100)\n",
    "print('percentage of zeros is ', pct_of_zeros*100)"
   ]
  },
  {
   "cell_type": "markdown",
   "metadata": {},
   "source": [
    "#### 4.1 Visualiase the Target Variable"
   ]
  },
  {
   "cell_type": "code",
   "execution_count": 57,
   "metadata": {},
   "outputs": [
    {
     "data": {
      "image/png": "[encoded data removed]",
      "text/plain": [
       "<Figure size 432x288 with 1 Axes>"
      ]
     },
     "metadata": {},
     "output_type": "display_data"
    }
   ],
   "source": [
    "#Let's plot this breakdown\n",
    "sns.countplot(x='Take Up Outcome', data=dt, palette= 'hls')\n",
    "plt.title('Take Up Outcome breakdown')\n",
    "plt.show()"
   ]
  },
  {
   "cell_type": "markdown",
   "metadata": {},
   "source": [
    "Since not taking a policy is our outcome of interest and is represented by zero in the dataset, for the purpose of our analysis we are going to change these zeros in ones and vice versa"
   ]
  },
  {
   "cell_type": "code",
   "execution_count": 21,
   "metadata": {},
   "outputs": [],
   "source": [
    "#Swapping values\n",
    "dt['Take Up Outcome'] = dt['Take Up Outcome'].replace({0:1, 1:0})"
   ]
  },
  {
   "cell_type": "code",
   "execution_count": 23,
   "metadata": {},
   "outputs": [
    {
     "data": {
      "text/plain": [
       "0    16613\n",
       "1     8886\n",
       "Name: Take Up Outcome, dtype: int64"
      ]
     },
     "execution_count": 23,
     "metadata": {},
     "output_type": "execute_result"
    }
   ],
   "source": [
    "#check the swapping\n",
    "dt['Take Up Outcome'].value_counts()"
   ]
  },
  {
   "cell_type": "markdown",
   "metadata": {},
   "source": [
    "Since we are required to predict the likelihood and our target variable is binary we choose to use Logistic Regression for our analysis"
   ]
  },
  {
   "cell_type": "markdown",
   "metadata": {},
   "source": [
    "### 5. Logistic Regression Model Fitting"
   ]
  },
  {
   "cell_type": "markdown",
   "metadata": {},
   "source": [
    "**Logistic Regression** is a Machine Learning classification algorithm that is used to predict the probability of a binary categorical dependent variable, which contains data coded as 1 (yes, success, etc.) or 0 (no, failure, etc.).  \n",
    "\n",
    "Logistic Regression requires large sample sizes but might also face the **overfitting** problem, which occurs when the model learns the random extra noise in the data, and consequencely will be poor to generalise on unseen data. To overcome this problem we are going to randomly split the dataset in two sets, one for training the model and the other one to test and valide the model. The split will be 80% of the entire dataset for the training dataset and 20% for the test dataset.   "
   ]
  },
  {
   "cell_type": "code",
   "execution_count": 26,
   "metadata": {},
   "outputs": [
    {
     "data": {
      "text/html": [
       "<div>\n",
       "<style scoped>\n",
       "    .dataframe tbody tr th:only-of-type {\n",
       "        vertical-align: middle;\n",
       "    }\n",
       "\n",
       "    .dataframe tbody tr th {\n",
       "        vertical-align: top;\n",
       "    }\n",
       "\n",
       "    .dataframe thead th {\n",
       "        text-align: right;\n",
       "    }\n",
       "</style>\n",
       "<table border=\"1\" class=\"dataframe\">\n",
       "  <thead>\n",
       "    <tr style=\"text-align: right;\">\n",
       "      <th></th>\n",
       "      <th>Contract Status</th>\n",
       "      <th>Collection Count</th>\n",
       "    </tr>\n",
       "  </thead>\n",
       "  <tbody>\n",
       "    <tr>\n",
       "      <th>0</th>\n",
       "      <td>1</td>\n",
       "      <td>6</td>\n",
       "    </tr>\n",
       "    <tr>\n",
       "      <th>1</th>\n",
       "      <td>1</td>\n",
       "      <td>7</td>\n",
       "    </tr>\n",
       "    <tr>\n",
       "      <th>2</th>\n",
       "      <td>1</td>\n",
       "      <td>2</td>\n",
       "    </tr>\n",
       "    <tr>\n",
       "      <th>3</th>\n",
       "      <td>0</td>\n",
       "      <td>11</td>\n",
       "    </tr>\n",
       "    <tr>\n",
       "      <th>4</th>\n",
       "      <td>1</td>\n",
       "      <td>0</td>\n",
       "    </tr>\n",
       "  </tbody>\n",
       "</table>\n",
       "</div>"
      ],
      "text/plain": [
       "   Contract Status  Collection Count\n",
       "0                1                 6\n",
       "1                1                 7\n",
       "2                1                 2\n",
       "3                0                11\n",
       "4                1                 0"
      ]
     },
     "execution_count": 26,
     "metadata": {},
     "output_type": "execute_result"
    }
   ],
   "source": [
    "#Let's prepare the input data to be fitted into Scikit-Learn\n",
    "X = dt[['Contract Status', 'Collection Count']]\n",
    "X.head()"
   ]
  },
  {
   "cell_type": "code",
   "execution_count": 28,
   "metadata": {},
   "outputs": [],
   "source": [
    "#Same for the target variable\n",
    "y = dt['Take Up Outcome']"
   ]
  },
  {
   "cell_type": "markdown",
   "metadata": {},
   "source": [
    "#### 5.1 Training the Model"
   ]
  },
  {
   "cell_type": "code",
   "execution_count": 41,
   "metadata": {},
   "outputs": [
    {
     "data": {
      "text/plain": [
       "LogisticRegression()"
      ]
     },
     "execution_count": 41,
     "metadata": {},
     "output_type": "execute_result"
    }
   ],
   "source": [
    "#Import, make instance and train the model\n",
    "from sklearn.linear_model import LogisticRegression\n",
    "from sklearn import metrics\n",
    "\n",
    "X_train, X_test, y_train, y_test = train_test_split(X, y, test_size=0.2, random_state=0)\n",
    "logreg = LogisticRegression(solver='lbfgs')\n",
    "logreg.fit(X_train, y_train)"
   ]
  },
  {
   "cell_type": "markdown",
   "metadata": {},
   "source": [
    "####  5.2 Model Predictions"
   ]
  },
  {
   "cell_type": "code",
   "execution_count": 42,
   "metadata": {},
   "outputs": [],
   "source": [
    "#Predictions on the test set\n",
    "predictions = logreg.predict(X_test)"
   ]
  },
  {
   "cell_type": "code",
   "execution_count": 43,
   "metadata": {},
   "outputs": [
    {
     "name": "stdout",
     "output_type": "stream",
     "text": [
      "0.8798039215686274\n"
     ]
    }
   ],
   "source": [
    "#Computing the accuracy on the test\n",
    "score = logreg.score(X_test, y_test)\n",
    "print(score)"
   ]
  },
  {
   "cell_type": "markdown",
   "metadata": {},
   "source": [
    "#### 5.3 Confusion Matrix   \n",
    "A confusion matrix is a table that is used to describe the performance of a classification model on a set of test data for which true values are known and it is based on true and false positive or negative.   \n",
    "* True Positive (TP) refers to the number of predictions where the classifier correctly predicts the positive class as positive.   \n",
    "* False Positive (FP) is the number of predictions where the classifier incorrectly predicts the negative class as positive, it is also known as the Type I Error.   \n",
    "* True Negative (TN) is the number of predictions where the classifier correctly predicts the negative class as negative.  \n",
    "* False Negative (FN) is the number of predictions where the classifier incorrectly predicts the positive class as negative, it is also known as Type II Error"
   ]
  },
  {
   "cell_type": "code",
   "execution_count": 45,
   "metadata": {},
   "outputs": [
    {
     "name": "stdout",
     "output_type": "stream",
     "text": [
      "[[2761  555]\n",
      " [  58 1726]]\n"
     ]
    }
   ],
   "source": [
    "#Let's compute the confusion matrix\n",
    "cm = metrics.confusion_matrix(y_test, predictions)\n",
    "print(cm)"
   ]
  },
  {
   "cell_type": "code",
   "execution_count": 50,
   "metadata": {},
   "outputs": [
    {
     "data": {
      "image/png": "[encoded data removed]",
      "text/plain": [
       "<Figure size 360x360 with 2 Axes>"
      ]
     },
     "metadata": {},
     "output_type": "display_data"
    }
   ],
   "source": [
    "#Visualise the confusion matrix using the Seaborn package\n",
    "plt.figure(figsize=(5,5))\n",
    "sns.heatmap(cm, annot=True, fmt=\".0f\", linewidths=.5, square=True, cmap='Blues_r');\n",
    "plt.ylabel('Actual label');\n",
    "plt.xlabel('Predicted label');\n",
    "all_sample_title='Accuracy Score: {0}'.format(score)\n",
    "plt.title(all_sample_title, size=15);"
   ]
  },
  {
   "cell_type": "markdown",
   "metadata": {},
   "source": [
    "The confusion matrix result is telling us that we have 2761 + 1726 = 4487 observations that we correctly classified and only 555 + 58 = 613 that we incorrectly classified or missed.   \n",
    "\n",
    "Accuracy is not the only classification metric, we can also compute the precision, recall, F-measure and support.  \n",
    "\n",
    "#### Precision, Recall, F-measure and Support   \n",
    "\n",
    "`To quote Scikit Learn`\n",
    "\n",
    "**Precision** is the ratio of TP / (TP + FP) where TP is the number of true positives and FP the number of false positives. The precision or `Specificity` is intuitevely the ability to correctly predict, it tells us how many of the correctly predicted cases actually turned out to be positive. Precision is a useful metric where FP is of a higher concern than FN.    \n",
    "\n",
    "**Recall** is the ratio of TP / (TP + FN) where FN is the number of false negatives. Recall or `Sensitivity` is intuitively the ability to correctly detect, it tells us how many of the actual positive cases were the model able to predict correctly. Recall is a useful metric in cases where FN is of higher concern.   \n",
    "\n",
    "**F-1 score** or `F-Measure score` can be interpreted as a weighted harmonic mean of the Precision and Recall, where F-score reaches its best value at 1 and worst score at 0. The F-beta score weights the recall more than the precission by a factor of beta, with beta = 1 meaning recall and precision are equally important.   \n",
    "\n",
    "**Support** is the number of occurrence of each class in y_test."
   ]
  },
  {
   "cell_type": "code",
   "execution_count": 52,
   "metadata": {},
   "outputs": [
    {
     "name": "stdout",
     "output_type": "stream",
     "text": [
      "              precision    recall  f1-score   support\n",
      "\n",
      "           0       0.98      0.83      0.90      3316\n",
      "           1       0.76      0.97      0.85      1784\n",
      "\n",
      "    accuracy                           0.88      5100\n",
      "   macro avg       0.87      0.90      0.87      5100\n",
      "weighted avg       0.90      0.88      0.88      5100\n",
      "\n"
     ]
    }
   ],
   "source": [
    "#Precision and the other metrics\n",
    "from sklearn.metrics import classification_report\n",
    "print(classification_report(y_test, predictions))"
   ]
  },
  {
   "cell_type": "markdown",
   "metadata": {},
   "source": [
    "#### 5.4 Interpretation  \n",
    "\n",
    "Based on the test set, our Logistic Regression model is able to predict at 88% of accuracy clients will not take up the policy. But this is not the full story as we would like to know about those who were not correctly identified, especially those false positives because in our case this means clients who were classified as not willing to pay their first monthly premium, but infact they will take up the policy. And the built model can perfectly identify that thanks to its high precision as can be seen in table above. On top of all the model has a very good F-1 score which means taking into account both precision and recall and produces a high F-1 score.  \n",
    "\n",
    "Next step, let's look at the strength of our model meaning its prective power by using a tool called ROC curve.      "
   ]
  },
  {
   "cell_type": "markdown",
   "metadata": {},
   "source": [
    "### 6. Receiver Operating Characteristic curve (ROC curve)  \n",
    "\n",
    "A ROC curve is a graph that shows the performance of a classification model at all the possible thresholds. The optimum position for the ROC curve of a good model is towards the top corner where the specificity and sensitivity are at optimum levels. Let's construct the ROC curve of our Logistic Regression model and see its strength"
   ]
  },
  {
   "cell_type": "code",
   "execution_count": 56,
   "metadata": {},
   "outputs": [
    {
     "data": {
      "image/png": "[encoded data removed]",
      "text/plain": [
       "<Figure size 432x288 with 1 Axes>"
      ]
     },
     "metadata": {},
     "output_type": "display_data"
    }
   ],
   "source": [
    "from sklearn.metrics import roc_curve\n",
    "from sklearn.metrics import roc_auc_score\n",
    "logit_roc_auc = roc_auc_score(y_test, predictions)\n",
    "fpr, tpr, thresholds = roc_curve(y_test, logreg.predict_proba(X_test)[:,1])\n",
    "plt.figure()\n",
    "plt.plot(fpr, tpr, label='Logistic Regression (area = %0.2f)'% logit_roc_auc)\n",
    "plt.plot([0,1], [0,1], 'r--')\n",
    "plt.xlim([0.0, 1.0])\n",
    "plt.ylim([0.0, 1.05])\n",
    "plt.xlabel('False Positive Rate (1-Specificity)')\n",
    "plt.ylabel('True Positive Rate (Sensitivity)')\n",
    "plt.title('Receiver operating characteristic curve', size=15)\n",
    "plt.legend(loc='lower right')\n",
    "plt.show()"
   ]
  },
  {
   "cell_type": "markdown",
   "metadata": {},
   "source": [
    "#### 6.1 Area Under the Curve (AUC)   \n",
    "\n",
    "The area under the ROC curve quantifies model classification accuracy, the higher the area, the greater the disparity between true and false positives, and the stronger the model in classifying members of the dataset.   \n",
    "An area of 0.5, represent by the dot line on the graph above, corresponds to a model that performs no better than a random classification and a good classifier stays as far away from that line as possible as can be seen here, with an AUC=0.90 close to 1, testifying that our Logistic Regression model is strong."
   ]
  },
  {
   "cell_type": "code",
   "execution_count": null,
   "metadata": {},
   "outputs": [],
   "source": []
  },
  {
   "cell_type": "markdown",
   "metadata": {},
   "source": [
    "## Part 2"
   ]
  },
  {
   "cell_type": "markdown",
   "metadata": {},
   "source": [
    "### 1. Likelihood Calculation\n",
    "**Calculate the likelihood of a client paying premium six month consecutively without lapsing or cancelling the contract**  \n",
    "\n",
    "We can solve this problem in different ways, but if we are interested in obtaining the likelihood or the probability of the occurring of the event then the probability way seems to be intuive.  \n",
    "\n",
    "Let X represent the event that a client pays his/her monthly premium. The probability of the event to occur or not, i.e. the probability of a client to pay or not to pay the monthly premium is equally distributed between the two parties (event and no event). So we can think of X following a binomial distribution with n=6 (six months) and p=0.5, then P(X=x) with n considered as  the number of trials, x the number of success (in our case we consider paying your monthly premium as a success), p is the probability of success and q=1-p is the probability of failure (not paying a premium). We assume that the occurrence of successifve events are independent i.e. paying one particular month does not depend to another month before or after. Under these conditions calculating the probability of paying the monthly premiums in 6 consecutive months, given that the first month was paid, can be done as follows: P(X=6)."
   ]
  },
  {
   "cell_type": "code",
   "execution_count": 58,
   "metadata": {},
   "outputs": [],
   "source": [
    "from scipy.stats import binom_test"
   ]
  },
  {
   "cell_type": "code",
   "execution_count": 60,
   "metadata": {},
   "outputs": [
    {
     "data": {
      "text/plain": [
       "0.015625"
      ]
     },
     "execution_count": 60,
     "metadata": {},
     "output_type": "execute_result"
    }
   ],
   "source": [
    "#Calculate P(X=6) using SciPy\n",
    "binom_test(x=6, n=6, p=0.5, alternative='greater')"
   ]
  },
  {
   "cell_type": "markdown",
   "metadata": {},
   "source": [
    "**Therefore the likelihood of a client to pay his/her monthly premiums six months without lapsing or canceling the contract is 0.015625.**"
   ]
  },
  {
   "cell_type": "code",
   "execution_count": null,
   "metadata": {},
   "outputs": [],
   "source": []
  },
  {
   "cell_type": "code",
   "execution_count": null,
   "metadata": {},
   "outputs": [],
   "source": []
  }
 ],
 "metadata": {
  "kernelspec": {
   "display_name": "Python 3 (ipykernel)",
   "language": "python",
   "name": "python3"
  },
  "language_info": {
   "codemirror_mode": {
    "name": "ipython",
    "version": 3
   },
   "file_extension": ".py",
   "mimetype": "text/x-python",
   "name": "python",
   "nbconvert_exporter": "python",
   "pygments_lexer": "ipython3",
   "version": "3.9.7"
  }
 },
 "nbformat": 4,
 "nbformat_minor": 4
}
